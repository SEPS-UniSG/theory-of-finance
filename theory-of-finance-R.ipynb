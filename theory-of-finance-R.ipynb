{
  "nbformat": 4,
  "nbformat_minor": 0,
  "metadata": {
    "colab": {
      "name": "theory-of-finance-R.ipynb",
      "provenance": [],
      "collapsed_sections": []
    },
    "kernelspec": {
      "name": "ir",
      "display_name": "R"
    },
    "language_info": {
      "name": "R"
    }
  },
  "cells": [
    {
      "cell_type": "markdown",
      "metadata": {
        "id": "N72juNAHCVwr"
      },
      "source": [
        "# Theory of Finance\n",
        "\n",
        "In this notebook, you will work with stock market data from the S&P500. You will learn some basics of portfolio management using R, such as computing log-returns, computing and plotting the mean-variance frontier, and building the minimum variance portfolio."
      ]
    },
    {
      "cell_type": "code",
      "metadata": {
        "id": "-QURaS45CY5v"
      },
      "source": [
        "# Library to access Yahoo!Finance data\n",
        "install.packages(\"quantmod\") # The quantmod library is not in the default libraries, it must be installed first\n",
        "library(quantmod)\n",
        "# Time series library\n",
        "library(xts)\n",
        "# Plotting library\n",
        "library(ggplot2);"
      ],
      "execution_count": null,
      "outputs": []
    },
    {
      "cell_type": "code",
      "metadata": {
        "id": "UTpHPL4oG4a1"
      },
      "source": [
        "# Set plot size for upcoming plots\n",
        "options(repr.plot.width = 12, repr.plot.height = 8)"
      ],
      "execution_count": 2,
      "outputs": []
    },
    {
      "cell_type": "markdown",
      "metadata": {
        "id": "5sDv7mELC3-Y"
      },
      "source": [
        "## Obtaining financial data\n",
        "\n",
        "The first thing we are going to do is gather stock prices from the `quantmod` library we have just loaded above. In general, there exist a lot of different sources for financial data, depending on your requirements (which markets, which frequency, which time window, etc.) you might need to look into further sources. For simplicity's sake, this notebook will ignore these complications but these are things you should consider when writing your research.\n",
        "\n",
        "\n",
        "We begin by building a list of 30 *random* tickers from stocks in the S&P500. We will grab the data from `quantmod` for these stocks only.\n"
      ]
    },
    {
      "cell_type": "code",
      "metadata": {
        "id": "ouYhXfBoCjFz"
      },
      "source": [
        "# Create a list with the tickers of the stocks for which we want to obtain data\n",
        "stocklist <- c('AAPL', 'AFL', 'AMZN', 'APD', 'BAC', 'COF', 'COST', \n",
        "             'HBAN', 'HON', 'INTU', 'IPG', 'KEY', 'KLAC', 'LMT', \n",
        "             'LOW', 'MSFT', 'NEM', 'NKE', 'OMC', 'PAYX', 'RF', 'RHI', \n",
        "             'SNA', 'SWK', 'UPS', 'USB', 'VZ', 'WHR', 'WY', 'YUM')"
      ],
      "execution_count": 3,
      "outputs": []
    },
    {
      "cell_type": "markdown",
      "metadata": {
        "id": "EL7ZT80aDDuA"
      },
      "source": [
        "Because we are querying an online API, obtaining the data can take a few seconds."
      ]
    },
    {
      "cell_type": "code",
      "metadata": {
        "id": "fm81uHiwDFm7"
      },
      "source": [
        "# Obtain the data from Yahoo!Finance between 1st Jan 2010 and 1st Jun 2021\n",
        "getSymbols(stocklist, src = \"yahoo\", from = as.Date(\"2010-01-01\"), to = as.Date(\"2021-06-01\"))\n",
        "# Keep only \"Adjusted Close\" prices and build a time series objects\n",
        "prices <- xts(data.frame(matrix(unlist(lapply(stocklist, function(x) Ad(get(x)))), nrow = length(Ad(get(stocklist[1]))), byrow=FALSE)), order.by = index(get(stocklist[1])))\n",
        "names(prices) <- stocklist\n",
        "# Display the first 10 rows of the dataset\n",
        "head(prices, 10)"
      ],
      "execution_count": null,
      "outputs": []
    },
    {
      "cell_type": "code",
      "metadata": {
        "id": "83D1PaunF8lq"
      },
      "source": [
        "# Create a dataframe of percentage returns\n",
        "returns <- 100 * (exp(diff(log(prices), 1)) - 1)\n",
        "# Display the first 10 rows\n",
        "head(returns, 10)"
      ],
      "execution_count": null,
      "outputs": []
    },
    {
      "cell_type": "code",
      "metadata": {
        "id": "rLtVXvDqIrTQ"
      },
      "source": [
        "# Since the first row is NA, we drop it to avoid dealing with NAs\n",
        "returns <- returns[2:nrow(returns), ]"
      ],
      "execution_count": 6,
      "outputs": []
    },
    {
      "cell_type": "markdown",
      "metadata": {
        "id": "CCUr79GyH4Ii"
      },
      "source": [
        "Now that we have obtained stock returns for our 30 stocks between 2010 and 2021, we further proceed by splitting the data into train and test sets. In general, a train set is a set you use to fit your model and the test set is used to validate your model. This can help us understand when a model is overfitting. An overfitted model will perform well on the train data (the data that was used to fit the model) and it will perform badly on the test set (data that the model has not \"*seen*\" yet)."
      ]
    },
    {
      "cell_type": "code",
      "metadata": {
        "id": "bq9_zUQvHxEm"
      },
      "source": [
        "# Separate the data into a training (pre-2020) and a testing set (post-2019)\n",
        "train_index <- index(returns) < \"2020-1-1\"\n",
        "test_index <- index(returns) >= \"2020-1-1\"\n",
        "# Display the last 10 rows of the training set\n",
        "tail(returns[train_index], 10)"
      ],
      "execution_count": null,
      "outputs": []
    },
    {
      "cell_type": "code",
      "metadata": {
        "id": "par9VUVDIGDq"
      },
      "source": [
        "# Using the training set, compute the stock returns means,\n",
        "mean_returns <- colMeans(returns[train_index])\n",
        "# ... standard deviations,\n",
        "std_returns <- apply(returns[train_index], 2, sd)\n",
        "# ... and covariances\n",
        "cov_returns <- cov(returns[train_index])"
      ],
      "execution_count": 8,
      "outputs": []
    },
    {
      "cell_type": "markdown",
      "metadata": {
        "id": "MVZB8c4kI1ja"
      },
      "source": [
        "## Computing the efficient frontier\n",
        "\n",
        "The efficient frontier (also mean-variance or portfolio frontier) is a set of portfolio allocations which offer the lowest variance for a given level of return.\n",
        "\n",
        "Finding the efficient frontier is done by solving the optimization problem\n",
        "\n",
        "$$\n",
        "\\begin{align}\n",
        "\\min &\\mathbb{V}[R_p] \\\\ \\text{s.t.} \\ &\\mathbb{E}[R_p] = \\mu^\\star\n",
        "\\end{align}\n",
        "$$\n",
        "where $\\mathbb{V}[R_p]$ represents the variance of the portfolio and $\\mathbb{E}[R_p]$ its expected return. Additionally, it is imperative that the chosen portfolio sum to 1.\n",
        "\n",
        "The efficient frontier can be obtained through numerical minimization or by linear algebra, we follow the latter approach, as given in https://github.com/PaulSoderlind/FinancialTheoryMSc/blob/master/Ch03_MeanVariance.ipynb (however, the linked notebook implements the approach in Julia, here it is of course done in Python)"
      ]
    },
    {
      "cell_type": "code",
      "metadata": {
        "id": "ahqEmtk0I5nM"
      },
      "source": [
        "# Compute the efficient frontier\n",
        "I <- rep(1, length(mean_returns)) # Vector of ones\n",
        "S_1 <- solve(cov_returns)         # Inverse of the return covariance matrix\n",
        "# Compute scalars to help us with the computation of the frontier \n",
        "# # (see course slides, chapter 3.1.4)\n",
        "A <- c(t(mean_returns) %*% S_1 %*% mean_returns)\n",
        "B <- c(t(mean_returns) %*% S_1 %*% I)\n",
        "C <- c(t(I) %*% S_1 %*% I)\n",
        "# Create a function that returns the weights that minimize the variance for a \n",
        "# given level of returns mu_star\n",
        "mv_frontier <- function(mu_star) {\n",
        "  lam <- (C * mu_star - B) / (A * C - B^2)\n",
        "  delta <- (A - B * mu_star) / (A * C - B^2)\n",
        "  w <- S_1 %*% (mean_returns * lam + I * delta)\n",
        "  list(mu = c(sqrt(t(w) %*% cov_returns %*% w)), w = w)\n",
        "}"
      ],
      "execution_count": 9,
      "outputs": []
    },
    {
      "cell_type": "code",
      "metadata": {
        "id": "jplJiJyvLkop"
      },
      "source": [
        "# Create the range of the y-axis\n",
        "mu_star <- seq(from = 0, to = 0.2, by = 0.001)\n",
        "mvf <- sapply(mu_star, mv_frontier)[1, ] # Compute the efficient frontier"
      ],
      "execution_count": 10,
      "outputs": []
    },
    {
      "cell_type": "code",
      "metadata": {
        "id": "oCdKseeXm4Qf"
      },
      "source": [
        "# Compute the limits for the x-axis\n",
        "limx <- c(min(unlist(mvf)) * 0.9, max(std_returns) * 1.1)"
      ],
      "execution_count": 11,
      "outputs": []
    },
    {
      "cell_type": "code",
      "metadata": {
        "id": "hfVcpwnYLkxD"
      },
      "source": [
        "# Plot the mean-variance efficient frontieras a red line\n",
        "plot(sapply(mu_star, mv_frontier)[1, ], mu_star, xlab = \"Standard deviation\",\n",
        "  ylab = \"Mean\", main = \"Returns' mean-stdev plot\", type = \"l\", xlim = limx,\n",
        "  ylim = c(min(mu_star), max(mu_star)), col = \"red\")\n",
        "# Plot individual stock mean returns and std as blue dots\n",
        "points(mean_returns ~ std_returns, col = \"blue\")\n",
        "text(mean_returns ~ std_returns, labels = stocklist, pos = 3, col = \"blue\")"
      ],
      "execution_count": null,
      "outputs": []
    },
    {
      "cell_type": "markdown",
      "metadata": {
        "id": "AeMPkhsZolm4"
      },
      "source": [
        "## Comparing portfolios\n",
        "\n",
        "We now compute the weights that produce the minimum variance portfolio on the train set. Using the equal weights portfolio as a benchmark, we compare the performance of both portfolios on the test set."
      ]
    },
    {
      "cell_type": "code",
      "metadata": {
        "id": "HYwYXGq9ootb"
      },
      "source": [
        "# Compute the min-variance portfolio weights\n",
        "w_minvar <- as.vector(S_1 %*% I) / as.numeric(t(I) %*% S_1 %*% I)\n",
        "# Store uniform weights for a benchmark portfolio\n",
        "w_uniform <- rep(1, ncol(prices)) / ncol(prices)"
      ],
      "execution_count": 15,
      "outputs": []
    },
    {
      "cell_type": "code",
      "metadata": {
        "id": "T1MdRygZp_3C"
      },
      "source": [
        "# Create a function to return an array of portfolio value over time\n",
        "portfolio_value <- function(prices, weights) {\n",
        "  # Compute the logarithmic returns\n",
        "  log_returns <- diff(log(prices), 1)\n",
        "  # Store a vector of dates to return a timeseries object later\n",
        "  dates <- as.Date(index(log_returns[complete.cases(log_returns)]), \"%Y-%m-%d\")\n",
        "  # Multiply the log returns by the associated weights\n",
        "  log_returns <- log_returns %*% weights\n",
        "  # Take the cumulative sum where the result is not NA and exponentiate \n",
        "  # to transform back to percentage returns\n",
        "  xts(x = exp(cumsum(log_returns[!is.na(log_returns)])), order.by = dates)\n",
        "}"
      ],
      "execution_count": 16,
      "outputs": []
    },
    {
      "cell_type": "code",
      "metadata": {
        "id": "oD8XpUHXp_5P"
      },
      "source": [
        "# Compute the returns for both portfolios for the train and test set\n",
        "r_minvar_train <- portfolio_value(prices[train_index], w_minvar)\n",
        "r_uniform_train <- portfolio_value(prices[train_index], w_uniform)\n",
        "r_minvar_test <- portfolio_value(prices[test_index], w_minvar)\n",
        "r_uniform_test <- portfolio_value(prices[test_index], w_uniform)\n",
        "# Merge train and test results in separate xts objects\n",
        "r_train <- merge(r_minvar_train, r_uniform_train)\n",
        "r_test <- merge(r_minvar_test, r_uniform_test)"
      ],
      "execution_count": 40,
      "outputs": []
    },
    {
      "cell_type": "code",
      "metadata": {
        "id": "0_iUdnMUHaI2"
      },
      "source": [
        "plt <- plot.xts(r_train, major.ticks = \"years\", main = \"Train set\", \n",
        "  yaxis.right = FALSE)\n",
        "addLegend(\"topleft\", legend.names = c(\"Min-variance\", \"Equal weights\"), lty=1, \n",
        "  lwd=2)"
      ],
      "execution_count": null,
      "outputs": []
    },
    {
      "cell_type": "code",
      "metadata": {
        "id": "pTS0kUg2CYo5"
      },
      "source": [
        "plt <- plot.xts(r_test, major.ticks = \"years\", main = \"Train set\", \n",
        "  yaxis.right = FALSE)\n",
        "addLegend(\"topleft\", legend.names = c(\"Min-variance\", \"Equal weights\"), lty=1, \n",
        "  lwd=2)"
      ],
      "execution_count": null,
      "outputs": []
    },
    {
      "cell_type": "markdown",
      "metadata": {
        "id": "c8sZre4gsM7D"
      },
      "source": [
        "We see that, for both the train and test data, the equally weighted portfolio outperforms the minimum-variance portfolio returns-wise, however, it is also quite obvious that its variance is much higher.\n",
        "\n",
        "To get a better grasp of these differences, we compute the mean, standard deviation, and Sharpe ratio of both portfolios for both the train and test period.\n",
        "\n",
        "Because computing means of percentage returns does not make sense, we will instead work with log-returns for the portfolio metrics."
      ]
    },
    {
      "cell_type": "code",
      "metadata": {
        "id": "geiThSCLrKVe"
      },
      "source": [
        "# Create a function to output portfolio metrics\n",
        "portfolio_metrics <- function(prices, weights) {\n",
        "  # Compute the logarithmic returns\n",
        "  log_returns <- diff(log(prices), 1)\n",
        "  # Compute the log-returns for the portfolio\n",
        "  log_returns <- log_returns %*% weights\n",
        "  # Compute and display the portfolio metrics\n",
        "  mu <- mean(log_returns, na.rm = TRUE)\n",
        "  sigma <- sd(log_returns, na.rm = TRUE)\n",
        "  print(paste0(\"Mean:    \", round(mu, digits = 5)))\n",
        "  print(paste0(\"St. dev.:\", round(sigma, digits = 5)))\n",
        "  print(paste0(\"Sharpe:  \", round(mu / sigma, digits = 5)))\n",
        "}"
      ],
      "execution_count": 35,
      "outputs": []
    },
    {
      "cell_type": "code",
      "metadata": {
        "id": "atHvHv_4rBj3"
      },
      "source": [
        "print(\"Min. variance portfolio (train data)\")\n",
        "print(\"-----------------------------------------\")\n",
        "portfolio_metrics(prices[train_index], w_minvar)\n",
        "print(\"\") # Empty line\n",
        "print(\"Equally weighted portfolio (train data)\")\n",
        "print(\"-----------------------------------------\")\n",
        "portfolio_metrics(prices[train_index], w_uniform)"
      ],
      "execution_count": null,
      "outputs": []
    },
    {
      "cell_type": "code",
      "metadata": {
        "id": "6yo-muzvLlDP"
      },
      "source": [
        "print(\"Min. variance portfolio (test data)\")\n",
        "print(\"-----------------------------------------\")\n",
        "portfolio_metrics(prices[test_index], w_minvar)\n",
        "print(\"\") # Empty line\n",
        "print(\"Equally weighted portfolio (test data)\")\n",
        "print(\"-----------------------------------------\")\n",
        "portfolio_metrics(prices[test_index], w_uniform)"
      ],
      "execution_count": null,
      "outputs": []
    },
    {
      "cell_type": "markdown",
      "metadata": {
        "id": "KSdK-TtEs_8d"
      },
      "source": [
        "Given that we are working with log-returns, we can simply annualize the daily performance measures by multiplying with 252 (returns) and square-root of 252 (for standard deviation and Sharpe-ratio)."
      ]
    },
    {
      "cell_type": "code",
      "metadata": {
        "id": "Oz-5npXVI4oR"
      },
      "source": [
        "# Create a function to output portfolio metrics\n",
        "portfolio_metrics_an <- function(prices, weights) {\n",
        "  # Compute the logarithmic returns\n",
        "  log_returns <- diff(log(prices), 1)\n",
        "  # Compute the log-returns for the portfolio\n",
        "  log_returns <- log_returns %*% weights\n",
        "  # Compute and display the portfolio metrics\n",
        "  mu <- mean(log_returns, na.rm = TRUE)\n",
        "  sigma <- sd(log_returns, na.rm = TRUE)\n",
        "  print(paste0(\"Mean:    \", round(mu * 252, digits = 5)))\n",
        "  print(paste0(\"St. dev.:\", round(sigma * sqrt(252), digits = 5)))\n",
        "  print(paste0(\"Sharpe:  \", round(mu * sqrt(252) / sigma, digits = 5)))\n",
        "}"
      ],
      "execution_count": 38,
      "outputs": []
    },
    {
      "cell_type": "code",
      "metadata": {
        "id": "9zEseaZsI4sl"
      },
      "source": [
        "print(\"Min. variance portfolio (test data, annualized)\")\n",
        "print(\"-----------------------------------------\")\n",
        "portfolio_metrics_an(prices[test_index], w_minvar)\n",
        "print(\"\") # Empty line\n",
        "print(\"Equally weighted portfolio (test data, annualized)\")\n",
        "print(\"-----------------------------------------\")\n",
        "portfolio_metrics_an(prices[test_index], w_uniform)"
      ],
      "execution_count": null,
      "outputs": []
    }
  ]
}